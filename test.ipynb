{
 "cells": [
  {
   "cell_type": "code",
   "execution_count": 1,
   "metadata": {
    "collapsed": true
   },
   "outputs": [],
   "source": [
    "# import the required libraries\n",
    "import numpy as np\n",
    "import time\n",
    "import random\n",
    "import cPickle\n",
    "import codecs\n",
    "import collections\n",
    "import os\n",
    "import math\n",
    "import json\n",
    "import tensorflow as tf\n",
    "from six.moves import xrange\n",
    "\n",
    "# libraries required for visualisation:\n",
    "from IPython.display import SVG, display\n",
    "import svgwrite # conda install -c omnia svgwrite=1.1.6\n",
    "import PIL\n",
    "from PIL import Image\n",
    "import matplotlib.pyplot as plt\n",
    "\n",
    "# set numpy output to something sensible\n",
    "np.set_printoptions(precision=8, edgeitems=6, linewidth=200, suppress=True)"
   ]
  },
  {
   "cell_type": "code",
   "execution_count": 2,
   "metadata": {
    "collapsed": true
   },
   "outputs": [],
   "source": [
    "# import our command line tools\n",
    "from sketch_rnn_train import *\n",
    "from model import *\n",
    "from utils import *\n",
    "from rnn import *"
   ]
  },
  {
   "cell_type": "code",
   "execution_count": 3,
   "metadata": {
    "collapsed": true
   },
   "outputs": [],
   "source": [
    "# inspect variables in checkpoint files\n",
    "from tensorflow.python import pywrap_tensorflow\n",
    "from tensorflow.python.platform import app\n",
    "from tensorflow.python.platform import flags"
   ]
  },
  {
   "cell_type": "code",
   "execution_count": 4,
   "metadata": {
    "collapsed": true
   },
   "outputs": [],
   "source": [
    "# little function that displays vector images and saves them to .svg\n",
    "def draw_strokes(data, factor=0.2, svg_filename='/tmp/sketch_rnn/svg/sample.svg'):\n",
    "  tf.gfile.MakeDirs(os.path.dirname(svg_filename))\n",
    "  min_x, max_x, min_y, max_y = get_bounds(data, factor)\n",
    "  dims = (50 + max_x - min_x, 50 + max_y - min_y)\n",
    "  dwg = svgwrite.Drawing(svg_filename, size=dims)\n",
    "  dwg.add(dwg.rect(insert=(0, 0), size=dims,fill='white'))\n",
    "  lift_pen = 1\n",
    "  abs_x = 25 - min_x \n",
    "  abs_y = 25 - min_y\n",
    "  p = \"M%s,%s \" % (abs_x, abs_y)\n",
    "  command = \"m\"\n",
    "  for i in xrange(len(data)):\n",
    "    if (lift_pen == 1):\n",
    "      command = \"m\"\n",
    "    elif (command != \"l\"):\n",
    "      command = \"l\"\n",
    "    else:\n",
    "      command = \"\"\n",
    "    x = float(data[i,0])/factor\n",
    "    y = float(data[i,1])/factor\n",
    "    lift_pen = data[i, 2]\n",
    "    p += command+str(x)+\",\"+str(y)+\" \"\n",
    "  the_color = \"black\"\n",
    "  stroke_width = 1\n",
    "  dwg.add(dwg.path(p).stroke(the_color,stroke_width).fill(\"none\"))\n",
    "  dwg.save()\n",
    "  display(SVG(dwg.tostring()))\n",
    "\n",
    "# generate a 2D grid of many vector drawings\n",
    "def make_grid_svg(s_list, grid_space=10.0, grid_space_x=16.0):\n",
    "  def get_start_and_end(x):\n",
    "    x = np.array(x)\n",
    "    x = x[:, 0:2]\n",
    "    x_start = x[0]\n",
    "    x_end = x.sum(axis=0)\n",
    "    x = x.cumsum(axis=0)\n",
    "    x_max = x.max(axis=0)\n",
    "    x_min = x.min(axis=0)\n",
    "    center_loc = (x_max+x_min)*0.5\n",
    "    return x_start-center_loc, x_end\n",
    "  x_pos = 0.0\n",
    "  y_pos = 0.0\n",
    "  result = [[x_pos, y_pos, 1]]\n",
    "  for sample in s_list:\n",
    "    s = sample[0]\n",
    "    grid_loc = sample[1]\n",
    "    grid_y = grid_loc[0]*grid_space+grid_space*0.5\n",
    "    grid_x = grid_loc[1]*grid_space_x+grid_space_x*0.5\n",
    "    start_loc, delta_pos = get_start_and_end(s)\n",
    "\n",
    "    loc_x = start_loc[0]\n",
    "    loc_y = start_loc[1]\n",
    "    new_x_pos = grid_x+loc_x\n",
    "    new_y_pos = grid_y+loc_y\n",
    "    result.append([new_x_pos-x_pos, new_y_pos-y_pos, 0])\n",
    "\n",
    "    result += s.tolist()\n",
    "    result[-1][2] = 1\n",
    "    x_pos = new_x_pos+delta_pos[0]\n",
    "    y_pos = new_y_pos+delta_pos[1]\n",
    "  return np.array(result)"
   ]
  },
  {
   "cell_type": "code",
   "execution_count": 5,
   "metadata": {
    "collapsed": true
   },
   "outputs": [],
   "source": [
    "data_dir = 'dataset/quickdraw/'\n",
    "model_dir = 'test_model/'"
   ]
  },
  {
   "cell_type": "code",
   "execution_count": 6,
   "metadata": {
    "scrolled": true
   },
   "outputs": [
    {
     "name": "stdout",
     "output_type": "stream",
     "text": [
      "INFO:tensorflow:Loaded 70000/2500/2500 from apple.npz\n",
      "INFO:tensorflow:Dataset combined: 75000 (70000/2500/2500), avg len 37\n",
      "INFO:tensorflow:model_params.max_seq_len 62.\n",
      "total images <= max_seq_len is 70000\n",
      "total images <= max_seq_len is 2500\n",
      "total images <= max_seq_len is 2500\n",
      "INFO:tensorflow:normalizing_scale_factor 30.2053.\n"
     ]
    }
   ],
   "source": [
    "[train_set, valid_set, test_set, hps_model, eval_hps_model, sample_hps_model] = load_env(data_dir, model_dir)"
   ]
  },
  {
   "cell_type": "code",
   "execution_count": 7,
   "metadata": {},
   "outputs": [
    {
     "name": "stdout",
     "output_type": "stream",
     "text": [
      "INFO:tensorflow:Model using gpu.\n",
      "INFO:tensorflow:Input dropout mode = False.\n",
      "INFO:tensorflow:Output dropout mode = False.\n",
      "INFO:tensorflow:Recurrent dropout mode = False.\n",
      "INFO:tensorflow:Model using gpu.\n",
      "INFO:tensorflow:Input dropout mode = False.\n",
      "INFO:tensorflow:Output dropout mode = False.\n",
      "INFO:tensorflow:Recurrent dropout mode = False.\n",
      "INFO:tensorflow:Model using gpu.\n",
      "INFO:tensorflow:Input dropout mode = False.\n",
      "INFO:tensorflow:Output dropout mode = False.\n",
      "INFO:tensorflow:Recurrent dropout mode = False.\n"
     ]
    }
   ],
   "source": [
    "# construct the sketch-rnn model here:\n",
    "reset_graph()\n",
    "model = Model(hps_model)\n",
    "eval_model = Model(eval_hps_model, reuse=True)\n",
    "sample_model = Model(sample_hps_model, reuse=True)"
   ]
  },
  {
   "cell_type": "code",
   "execution_count": 8,
   "metadata": {
    "collapsed": true
   },
   "outputs": [],
   "source": [
    "sess = tf.InteractiveSession()\n",
    "sess.run(tf.global_variables_initializer())"
   ]
  },
  {
   "cell_type": "code",
   "execution_count": 9,
   "metadata": {
    "collapsed": true
   },
   "outputs": [],
   "source": [
    "#from tensorflow.python.tools.inspect_checkpoint import print_tensors_in_checkpoint_file\n",
    "#checkpoint_path = os.path.join(model_dir, 'vector-5')\n",
    "#print(checkpoint_path)\n",
    "#print_tensors_in_checkpoint_file(checkpoint_path,tensor_name='',all_tensors='')\n",
    "#=================debug checkpoint files==================="
   ]
  },
  {
   "cell_type": "code",
   "execution_count": 10,
   "metadata": {},
   "outputs": [
    {
     "name": "stdout",
     "output_type": "stream",
     "text": [
      "INFO:tensorflow:Loading model test_model/vector-10000.\n",
      "INFO:tensorflow:Restoring parameters from test_model/vector-10000\n"
     ]
    }
   ],
   "source": [
    "# loads the weights from checkpoint into our model\n",
    "load_checkpoint(sess, model_dir)"
   ]
  },
  {
   "cell_type": "code",
   "execution_count": 11,
   "metadata": {
    "collapsed": true
   },
   "outputs": [],
   "source": [
    "def encode(input_strokes):\n",
    "    strokes = to_big_strokes(input_strokes, max_len=eval_hps_model.max_seq_len).tolist()\n",
    "    strokes.insert(0, [0, 0, 1, 0, 0])\n",
    "    seq_len = [len(input_strokes)]\n",
    "    draw_strokes(to_normal_strokes(np.array(strokes)))\n",
    "    return sess.run(eval_model.batch_zs,\n",
    "                    feed_dict={eval_model.input_data: [strokes], eval_model.sequence_lengths: seq_len})\n"
   ]
  },
  {
   "cell_type": "code",
   "execution_count": 12,
   "metadata": {
    "collapsed": true
   },
   "outputs": [],
   "source": [
    "def decode(z_input=None, draw_mode=True, temperature=0.1, factor=0.2):\n",
    "    z = None\n",
    "    if z_input is not None:\n",
    "        z = z_input\n",
    "\n",
    "    sample_strokes = sample(sess, sample_model, seq_len=eval_model.hps.max_seq_len, temperature=temperature, z=z)\n",
    "    many_strokes = []\n",
    "    for i in range(sample_model.num_enc_experts):\n",
    "        for j in range(sample_model.num_dec_experts):\n",
    "            strokes = to_normal_strokes(sample_strokes[i, j])\n",
    "            many_strokes.append(strokes)\n",
    "            if draw_mode:\n",
    "                draw_strokes(strokes, factor)\n",
    "    return many_strokes\n"
   ]
  },
  {
   "cell_type": "code",
   "execution_count": 13,
   "metadata": {},
   "outputs": [
    {
     "data": {
      "image/svg+xml": [
       "<svg baseProfile=\"full\" height=\"88.4038093314\" version=\"1.1\" width=\"94.031952396\" xmlns=\"http://www.w3.org/2000/svg\" xmlns:ev=\"http://www.w3.org/2001/xml-events\" xmlns:xlink=\"http://www.w3.org/1999/xlink\"><defs/><rect fill=\"white\" height=\"88.4038093314\" width=\"94.031952396\" x=\"0\" y=\"0\"/><path d=\"M44.0363706648,42.877635546 m-2.81407207251,-1.98640391231 l-4.63494241238,-1.15873560309 -8.77328395844,0.0 l-1.48980289698,1.65533661842 -1.32426932454,7.44901478291 l0.0,5.95921158791 1.15873560309,2.64853864908 l3.80727410316,3.64174038172 4.63494241238,1.65533661842 l5.13154327869,0.662134662271 14.0703606606,0.0 l4.80047613382,-0.496600978076 4.30387496948,-1.98640391231 l5.13154327869,-5.79367816448 0.993201956153,-6.12474560738 l-1.32426932454,-2.48300492764 -5.95921158791,-6.78687989712 l-2.97960579395,-1.48980289698 -2.48300492764,-0.331067331135 l-1.98640391231,0.331067331135 -8.77328395844,4.30387496948 m-1.15873560309,0.0 l0.0,-17.5465679169 3.64174038172,0.662134662271 l0.993201956153,0.993201956153 0.165533665568,0.993201956153 \" fill=\"none\" stroke=\"black\" stroke-width=\"1\"/></svg>"
      ],
      "text/plain": [
       "<IPython.core.display.SVG object>"
      ]
     },
     "metadata": {},
     "output_type": "display_data"
    }
   ],
   "source": [
    "# get a sample drawing from the test set, and render it to .svg\n",
    "stroke = test_set.random_sample()\n",
    "draw_strokes(stroke)"
   ]
  },
  {
   "cell_type": "code",
   "execution_count": 14,
   "metadata": {},
   "outputs": [
    {
     "data": {
      "image/svg+xml": [
       "<svg baseProfile=\"full\" height=\"88.4038093314\" version=\"1.1\" width=\"94.031952396\" xmlns=\"http://www.w3.org/2000/svg\" xmlns:ev=\"http://www.w3.org/2001/xml-events\" xmlns:xlink=\"http://www.w3.org/1999/xlink\"><defs/><rect fill=\"white\" height=\"88.4038093314\" width=\"94.031952396\" x=\"0\" y=\"0\"/><path d=\"M44.0363706648,42.877635546 m0.0,0.0 l-2.81407207251,-1.98640391231 -4.63494241238,-1.15873560309 l-8.77328395844,0.0 -1.48980289698,1.65533661842 l-1.32426932454,7.44901478291 0.0,5.95921158791 l1.15873560309,2.64853864908 3.80727410316,3.64174038172 l4.63494241238,1.65533661842 5.13154327869,0.662134662271 l14.0703606606,0.0 4.80047613382,-0.496600978076 l4.30387496948,-1.98640391231 5.13154327869,-5.79367816448 l0.993201956153,-6.12474560738 -1.32426932454,-2.48300492764 l-5.95921158791,-6.78687989712 -2.97960579395,-1.48980289698 l-2.48300492764,-0.331067331135 -1.98640391231,0.331067331135 l-8.77328395844,4.30387496948 m-1.15873560309,0.0 l0.0,-17.5465679169 3.64174038172,0.662134662271 l0.993201956153,0.993201956153 0.165533665568,0.993201956153 \" fill=\"none\" stroke=\"black\" stroke-width=\"1\"/></svg>"
      ],
      "text/plain": [
       "<IPython.core.display.SVG object>"
      ]
     },
     "metadata": {},
     "output_type": "display_data"
    }
   ],
   "source": [
    "many_zs = encode(stroke)"
   ]
  },
  {
   "cell_type": "code",
   "execution_count": 22,
   "metadata": {},
   "outputs": [
    {
     "data": {
      "image/svg+xml": [
       "<svg baseProfile=\"full\" height=\"83.6639250442\" version=\"1.1\" width=\"92.3134540254\" xmlns=\"http://www.w3.org/2000/svg\" xmlns:ev=\"http://www.w3.org/2001/xml-events\" xmlns:xlink=\"http://www.w3.org/1999/xlink\"><defs/><rect fill=\"white\" height=\"83.6639250442\" width=\"92.3134540254\" x=\"0\" y=\"0\"/><path d=\"M44.2994171381,37.1507393755 m-2.87186354399,-1.9491584599 l-6.14817976952,-1.5459446609 -5.93398451805,0.734614804387 l-2.67032414675,2.42836415768 -1.6750651598,5.27945458889 l0.0730911130086,6.78719460964 2.12929978967,3.58364492655 l3.39694499969,2.70331591368 5.06117463112,2.0921716094 l6.74294114113,1.23199187219 9.98509705067,0.167536307126 l5.28240859509,-1.28477528691 4.37379896641,-2.64273315668 l3.08493345976,-3.5856628418 1.69204518199,-3.82284641266 l0.491719096899,-5.29454350471 -1.42008185387,-3.83412688971 l-3.10690283775,-2.49349310994 -4.95173662901,-1.3684014976 l-5.23766815662,0.163526423275 -6.57195806503,2.88597911596 l-0.520778782666,-3.06824594736 0.742853730917,-4.14933264256 l1.39676809311,-2.50599086285 1.96220055223,-1.78393989801 l2.07345172763,-0.879338532686 \" fill=\"none\" stroke=\"black\" stroke-width=\"1\"/></svg>"
      ],
      "text/plain": [
       "<IPython.core.display.SVG object>"
      ]
     },
     "metadata": {},
     "output_type": "display_data"
    },
    {
     "data": {
      "image/svg+xml": [
       "<svg baseProfile=\"full\" height=\"85.5205775052\" version=\"1.1\" width=\"93.8577488903\" xmlns=\"http://www.w3.org/2000/svg\" xmlns:ev=\"http://www.w3.org/2001/xml-events\" xmlns:xlink=\"http://www.w3.org/1999/xlink\"><defs/><rect fill=\"white\" height=\"85.5205775052\" width=\"93.8577488903\" x=\"0\" y=\"0\"/><path d=\"M44.5897871256,39.3784993421 m-2.86345332861,-1.94398626685 l-6.61112010479,-1.65503576398 -5.70897638798,0.101259583607 l-2.71686881781,2.33098208904 -1.6893684864,5.1925522089 l0.0564825627953,7.06922769547 2.0244255662,3.69269549847 l3.29342126846,2.70578682423 5.33756792545,2.29599818587 l8.37564945221,1.15602597594 9.36202228069,0.196572132409 l5.55283606052,-1.3465218246 4.43175435066,-2.59487688541 l3.0187818408,-3.74605685472 1.93541616201,-4.71267849207 l0.469391420484,-5.08872568607 -1.42636448145,-4.09587830305 l-2.18752086163,-2.35319435596 -3.69876772165,-1.24839030206 l-9.68191027641,0.986564606428 -4.03440058231,1.72080546618 l-0.647742524743,-2.8103145957 0.775315091014,-4.20303940773 l2.14671939611,-3.30857545137 2.65067130327,-1.95253863931 l2.21895694733,-0.767156779766 \" fill=\"none\" stroke=\"black\" stroke-width=\"1\"/></svg>"
      ],
      "text/plain": [
       "<IPython.core.display.SVG object>"
      ]
     },
     "metadata": {},
     "output_type": "display_data"
    }
   ],
   "source": [
    "_ = decode(many_zs, temperature=0.2) # convert z back to drawing at temperature of 0.8"
   ]
  },
  {
   "cell_type": "code",
   "execution_count": null,
   "metadata": {
    "collapsed": true
   },
   "outputs": [],
   "source": [
    ""
   ]
  }
 ],
 "metadata": {
  "kernelspec": {
   "display_name": "Python 2",
   "language": "python",
   "name": "python2"
  },
  "language_info": {
   "codemirror_mode": {
    "name": "ipython",
    "version": 2.0
   },
   "file_extension": ".py",
   "mimetype": "text/x-python",
   "name": "python",
   "nbconvert_exporter": "python",
   "pygments_lexer": "ipython2",
   "version": "2.7.13"
  }
 },
 "nbformat": 4,
 "nbformat_minor": 0
}